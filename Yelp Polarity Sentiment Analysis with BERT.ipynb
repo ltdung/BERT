{
 "cells": [
  {
   "cell_type": "code",
   "execution_count": 1,
   "metadata": {},
   "outputs": [
    {
     "name": "stdout",
     "output_type": "stream",
     "text": [
      "Better speed can be achieved with apex installed from https://www.github.com/nvidia/apex.\n"
     ]
    }
   ],
   "source": [
    "import numpy as np\n",
    "import pandas as pd\n",
    "import os\n",
    "import sys\n",
    "import csv\n",
    "from sklearn import metrics\n",
    "from sklearn.metrics import classification_report\n",
    "\n",
    "sys.path.append(\"../\") \n",
    "from bert_sklearn import BertClassifier\n",
    "from bert_sklearn import load_model"
   ]
  },
  {
   "cell_type": "code",
   "execution_count": 5,
   "metadata": {},
   "outputs": [],
   "source": [
    "col_names=[\"label\", \"sentence\"]\n",
    "#train_amazon = pd.read_csv(\"amazon_train.csv\", names=col_names)\n",
    "#test_amazon = pd.read_csv(\"amazon_test.csv\")\n",
    "train_yelp = pd.read_csv(\"yelp_train.csv\", names=col_names)\n",
    "test_yelp = pd.read_csv(\"yelp_test.csv\", names=col_names)"
   ]
  },
  {
   "cell_type": "code",
   "execution_count": 6,
   "metadata": {},
   "outputs": [],
   "source": [
    "train_yelp.label.replace(1, 0, inplace=True)\n",
    "train_yelp.label.replace(2, 1, inplace=True)\n",
    "\n",
    "test_yelp.label.replace(1, 0, inplace=True)\n",
    "test_yelp.label.replace(2, 1, inplace=True)"
   ]
  },
  {
   "cell_type": "code",
   "execution_count": 7,
   "metadata": {},
   "outputs": [
    {
     "name": "stdout",
     "output_type": "stream",
     "text": [
      "   label                                           sentence\n",
      "0      1  Contrary to other reviews, I have zero complai...\n",
      "1      0  Last summer I had an appointment to get new ti...\n",
      "2      1  Friendly staff, same starbucks fair you get an...\n",
      "3      0  The food is good. Unfortunately the service is...\n",
      "4      1  Even when we didn't have a car Filene's Baseme...\n"
     ]
    }
   ],
   "source": [
    "print(test_yelp.head())"
   ]
  },
  {
   "cell_type": "code",
   "execution_count": null,
   "metadata": {},
   "outputs": [
    {
     "name": "stdout",
     "output_type": "stream",
     "text": [
      "Building sklearn classifier...\n",
      "\n",
      " BertClassifier(bert_model='bert-base-uncased', epochs=3, eval_batch_size=8,\n",
      "        fp16=False, gradient_accumulation_steps=2, label_list=None,\n",
      "        learning_rate=2e-05, local_rank=-1, logfile='bert_sklearn.log',\n",
      "        loss_scale=0, max_seq_length=128, num_mlp_hiddens=500,\n",
      "        num_mlp_layers=0, random_state=42, restore_file=None,\n",
      "        train_batch_size=32, use_cuda=True, validation_fraction=0,\n",
      "        warmup_proportion=0.1) \n",
      "\n",
      "Loading bert-base-uncased model...\n",
      "Defaulting to linear classifier/regressor\n",
      "train data size: 560000, validation data size: 0\n"
     ]
    },
    {
     "name": "stderr",
     "output_type": "stream",
     "text": [
      "Training:  98%|█████████████████████████████████████████████████████████████████████████████████████████████████████████████████████████████████████████████████████████████████▊    | 34126/35000 [120:36:06<3:14:27, 13.35s/it, loss=0.18]"
     ]
    }
   ],
   "source": [
    "%%time\n",
    "from sklearn.metrics import matthews_corrcoef\n",
    "\n",
    "X_train = train_yelp['sentence']\n",
    "y_train = train_yelp['label']\n",
    "\n",
    "# define model\n",
    "model = BertClassifier()\n",
    "model.epochs = 3\n",
    "model.validation_fraction = 0\n",
    "model.learning_rate = 2e-5\n",
    "model.max_seq_length = 128\n",
    "model.gradient_accumulation_steps = 2\n",
    "\n",
    "print('\\n',model,'\\n')\n",
    "\n",
    "# fit model\n",
    "model.fit(X_train, y_train)\n",
    "\n",
    "# test model on dev\n",
    "X_test = test_yelp['sentence']\n",
    "y_test = test_yelp['label']\n",
    "\n",
    "# make predictions\n",
    "y_pred = model.predict(X_test)\n",
    "print(\"Accuracy: %0.2f%%\"%(metrics.accuracy_score(y_pred,y_test) * 100))\n",
    "print(classification_report(y_test, y_pred, target_names=['negative','positive']))\n",
    "\n",
    "# Mathews correlation coefficient\n",
    "print(\"\\nMathews Correlation: %0.2f\"%(matthews_corrcoef(y_test, y_pred) * 100))"
   ]
  },
  {
   "cell_type": "code",
   "execution_count": null,
   "metadata": {},
   "outputs": [],
   "source": []
  }
 ],
 "metadata": {
  "kernelspec": {
   "display_name": "Python 3",
   "language": "python",
   "name": "python3"
  },
  "language_info": {
   "codemirror_mode": {
    "name": "ipython",
    "version": 3
   },
   "file_extension": ".py",
   "mimetype": "text/x-python",
   "name": "python",
   "nbconvert_exporter": "python",
   "pygments_lexer": "ipython3",
   "version": "3.7.1"
  }
 },
 "nbformat": 4,
 "nbformat_minor": 2
}
